{
 "cells": [
  {
   "cell_type": "code",
   "execution_count": null,
   "metadata": {},
   "outputs": [
    {
     "name": "stdout",
     "output_type": "stream",
     "text": [
      "Python funcionando desde el contenedor en : /usr/local/bin/python3\n"
     ]
    }
   ],
   "source": [
    "# Ruta del ejecutable de Python desde el contenedor\n",
    "# Debe imprimir la ruta del ejecutable de Python dentro del contenedor, algo como: Python funcionando en: /usr/local/bin/python\n",
    "\n",
    "import sys\n",
    "print(\"Python funcionando desde el contenedor en :\", sys.executable)"
   ]
  },
  {
   "cell_type": "code",
   "execution_count": 2,
   "metadata": {},
   "outputs": [
    {
     "name": "stdout",
     "output_type": "stream",
     "text": [
      "Pandas version: 2.2.3\n",
      "NumPy version: 2.2.4\n"
     ]
    }
   ],
   "source": [
    "import pandas as pd\n",
    "import numpy as np\n",
    "\n",
    "print(\"Pandas version:\", pd.__version__)\n",
    "print(\"NumPy version:\", np.__version__)\n"
   ]
  },
  {
   "cell_type": "markdown",
   "metadata": {},
   "source": [
    "# 📊 Mini Proyecto de Data Science\n",
    "Este notebook usa un entorno reproducible gracias a Docker y Dev Containers."
   ]
  },
  {
   "cell_type": "code",
   "execution_count": null,
   "metadata": {},
   "outputs": [],
   "source": [
    "import pandas as pd\n",
    "import numpy as np\n",
    "import matplotlib.pyplot as plt\n",
    "\n",
    "# Crear datos de ejemplo\n",
    "df = pd.DataFrame({\n",
    "    'A': np.random.rand(100),\n",
    "    'B': np.random.rand(100) * 10\n",
    "})\n",
    "\n",
    "df.plot(kind='scatter', x='A', y='B', title='Ejemplo de gráfico')\n",
    "plt.show()"
   ]
  }
 ],
 "metadata": {
  "kernelspec": {
   "display_name": "Python 3 (devcontainer)",
   "language": "python",
   "name": "devcontainer"
  },
  "language_info": {
   "codemirror_mode": {
    "name": "ipython",
    "version": 3
   },
   "file_extension": ".py",
   "mimetype": "text/x-python",
   "name": "python",
   "nbconvert_exporter": "python",
   "pygments_lexer": "ipython3",
   "version": "3.11.4"
  }
 },
 "nbformat": 4,
 "nbformat_minor": 2
}
